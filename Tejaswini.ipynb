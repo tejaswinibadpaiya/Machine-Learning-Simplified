{
  "nbformat": 4,
  "nbformat_minor": 0,
  "metadata": {
    "colab": {
      "provenance": [],
      "authorship_tag": "ABX9TyMLnpPVVkpm8f4Y3buVAutR",
      "include_colab_link": true
    },
    "kernelspec": {
      "name": "python3",
      "display_name": "Python 3"
    },
    "language_info": {
      "name": "python"
    }
  },
  "cells": [
    {
      "cell_type": "markdown",
      "metadata": {
        "id": "view-in-github",
        "colab_type": "text"
      },
      "source": [
        "<a href=\"https://colab.research.google.com/github/tejaswinibadpaiya/Machine-Learning-Simplified/blob/main/Tejaswini.ipynb\" target=\"_parent\"><img src=\"https://colab.research.google.com/assets/colab-badge.svg\" alt=\"Open In Colab\"/></a>"
      ]
    },
    {
      "cell_type": "code",
      "execution_count": 1,
      "metadata": {
        "colab": {
          "base_uri": "https://localhost:8080/"
        },
        "id": "JV4iJm6njZVi",
        "outputId": "45cb84e4-adbd-48e2-c4cb-d19c7ebf108e"
      },
      "outputs": [
        {
          "output_type": "stream",
          "name": "stdout",
          "text": [
            "3\n",
            "3\n",
            "6\n",
            "4\n",
            "1\n"
          ]
        }
      ],
      "source": [
        "my_tuple = (1, 2, 2, 3, 4, 2)\n",
        "\n",
        "# count() - Count the number of occurrences of a value\n",
        "count_of_2 = my_tuple.count(2)\n",
        "print(count_of_2)  # Output: 3\n",
        "\n",
        "# index() - Find the index of a value\n",
        "index_of_3 = my_tuple.index(3)\n",
        "print(index_of_3)  # Output: 3\n",
        "\n",
        "# len() - Get the length of the tuple\n",
        "length = len(my_tuple)\n",
        "print(length)  # Output: 6\n",
        "\n",
        "# max() - Find the maximum value\n",
        "maximum = max(my_tuple)\n",
        "print(maximum)  # Output: 4\n",
        "\n",
        "# min() - Find the minimum value\n",
        "minimum = min(my_tuple)\n",
        "print(minimum)  # Output: 1\n"
      ]
    },
    {
      "cell_type": "code",
      "source": [
        "my_string = \"Hello, World\"\n",
        "\n",
        "# split() - Split a string into a list of substrings\n",
        "words = my_string.split(\", \")\n",
        "print(words) # Output: ['Hello', 'World']\n",
        "\n",
        "# join() - Join a list of strings into a single string\n",
        "joined_string = \"-\".join(words)\n",
        "print(joined_string) # Output: 'Hello-World'\n",
        "\n",
        "# strip() - Remove leading and trailing whitespace\n",
        "trimmed_string = my_string.strip()\n",
        "print(trimmed_string) # Output: 'Hello, World'\n",
        "\n",
        "# replace() - Replace a substring with another string\n",
        "new_string = my_string.replace(\"World\", \"Python\")\n",
        "print(new_string) # Output: 'Hello, Python'\n",
        "\n",
        "# find() - Find the index of a substring\n",
        "index = my_string.find(\"World\")\n",
        "print(index) # Output: 7\n"
      ],
      "metadata": {
        "colab": {
          "base_uri": "https://localhost:8080/"
        },
        "id": "xoypkHqrkbOb",
        "outputId": "be8b1980-c446-450f-9742-4c9736642c4f"
      },
      "execution_count": 2,
      "outputs": [
        {
          "output_type": "stream",
          "name": "stdout",
          "text": [
            "['Hello', 'World']\n",
            "Hello-World\n",
            "Hello, World\n",
            "Hello, Python\n",
            "7\n"
          ]
        }
      ]
    },
    {
      "cell_type": "code",
      "source": [
        "my_list = [1, 2, 3]\n",
        "\n",
        "# append() - Add an element to the end of the list\n",
        "my_list.append(4)\n",
        "print(my_list) # Output: [1, 2, 3, 4]\n",
        "\n",
        "# remove() - Remove the first occurrence of a value\n",
        "my_list.remove(2)\n",
        "print(my_list) # Output: [1, 3, 4]\n",
        "\n",
        "# pop() - Remove and return an element by index\n",
        "popped_value = my_list.pop(0)\n",
        "print(popped_value) # Output: 1\n",
        "\n",
        "# sort() - Sort the list\n",
        "my_list.sort()\n",
        "print(my_list) # Output: [3, 4]\n",
        "\n",
        "# extend() - Append elements from another list\n",
        "other_list = [5, 6]\n",
        "my_list.extend(other_list)\n",
        "print(my_list) # Output: [3, 4, 5, 6]\n"
      ],
      "metadata": {
        "colab": {
          "base_uri": "https://localhost:8080/"
        },
        "id": "bmyA7UOMkus2",
        "outputId": "64ab0761-4db3-487b-850d-46cf8dd2034e"
      },
      "execution_count": 3,
      "outputs": [
        {
          "output_type": "stream",
          "name": "stdout",
          "text": [
            "[1, 2, 3, 4]\n",
            "[1, 3, 4]\n",
            "1\n",
            "[3, 4]\n",
            "[3, 4, 5, 6]\n"
          ]
        }
      ]
    },
    {
      "cell_type": "code",
      "source": [
        "my_dict = {\"name\": \"Alice\", \"age\": 30, \"city\": \"New York\"}\n",
        "\n",
        "# keys() - Get a list of keys\n",
        "keys = my_dict.keys()\n",
        "print(keys) # Output: dict_keys(['name', 'age', 'city'])\n",
        "\n",
        "# values() - Get a list of values\n",
        "values = my_dict.values()\n",
        "print(values) # Output: dict_values(['Alice', 30, 'New York'])\n",
        "\n",
        "# items() - Get a list of key-value pairs as tuples\n",
        "items = my_dict.items()\n",
        "print(items) # Output: dict_items([('name', 'Alice'), ('age', 30), ('city', 'New York')])\n",
        "\n",
        "# get() - Get the value associated with a key\n",
        "age = my_dict.get(\"age\")\n",
        "print(age) # Output: 30\n",
        "\n",
        "# pop() - Remove and return the value associated with a key\n",
        "city = my_dict.pop(\"city\")\n",
        "print(city) # Output: 'New York'\n"
      ],
      "metadata": {
        "colab": {
          "base_uri": "https://localhost:8080/"
        },
        "id": "CMbK7Wzvk2PJ",
        "outputId": "3a8b7691-ea24-489c-9378-498f3e3c0c6e"
      },
      "execution_count": 4,
      "outputs": [
        {
          "output_type": "stream",
          "name": "stdout",
          "text": [
            "dict_keys(['name', 'age', 'city'])\n",
            "dict_values(['Alice', 30, 'New York'])\n",
            "dict_items([('name', 'Alice'), ('age', 30), ('city', 'New York')])\n",
            "30\n",
            "New York\n"
          ]
        }
      ]
    },
    {
      "cell_type": "code",
      "source": [
        "my_set1 = {1, 2, 3}\n",
        "my_set2 = {3, 4, 5}\n",
        "\n",
        "# add() - Add an element to the set\n",
        "my_set1.add(4)\n",
        "print(my_set1) # Output: {1, 2, 3, 4}\n",
        "\n",
        "# remove() - Remove an element from the set\n",
        "my_set1.remove(2)\n",
        "print(my_set1) # Output: {1, 3, 4}\n",
        "\n",
        "# union() - Create a new set containing unique elements from two sets\n",
        "union_set = my_set1.union(my_set2)\n",
        "print(union_set) # Output: {1, 3, 4, 5}\n",
        "\n",
        "# intersection() - Create a new set containing common elements\n",
        "intersection_set = my_set1.intersection(my_set2)\n",
        "print(intersection_set) # Output: {3, 4}\n",
        "\n",
        "# difference() - Create a new set with elements in the first set but not the second\n",
        "difference_set = my_set1.difference(my_set2)\n",
        "print(difference_set) # Output: {1}"
      ],
      "metadata": {
        "colab": {
          "base_uri": "https://localhost:8080/"
        },
        "id": "mLiIgib1k8MM",
        "outputId": "d43f342c-2039-493c-fac8-6166e295ce88"
      },
      "execution_count": 5,
      "outputs": [
        {
          "output_type": "stream",
          "name": "stdout",
          "text": [
            "{1, 2, 3, 4}\n",
            "{1, 3, 4}\n",
            "{1, 3, 4, 5}\n",
            "{3, 4}\n",
            "{1}\n"
          ]
        }
      ]
    },
    {
      "cell_type": "code",
      "source": [
        "def reverse_and_concatenate(A, B):\n",
        "    # Reverse string A\n",
        "    reversed_A = A[::-1]\n",
        "\n",
        "    # Concatenate the reversed string A with string B\n",
        "    result = reversed_A + B\n",
        "\n",
        "    return result\n",
        "\n",
        "# Example usage:\n",
        "string_A = \"Hello\"\n",
        "string_B = \"World\"\n",
        "result_string = reverse_and_concatenate(string_A, string_B)\n",
        "print(result_string) # Output: \"olleHWorld\""
      ],
      "metadata": {
        "colab": {
          "base_uri": "https://localhost:8080/"
        },
        "id": "PqACWYi2lExJ",
        "outputId": "3a479cad-5ad9-43ef-cfde-a62b441b8969"
      },
      "execution_count": 7,
      "outputs": [
        {
          "output_type": "stream",
          "name": "stdout",
          "text": [
            "olleHWorld\n"
          ]
        }
      ]
    },
    {
      "cell_type": "code",
      "source": [
        "work_hours = [('Abby', 100, 'F'), ('Billy', 400, 'M'), ('Cassie', 800, 'F'), ('Maggi', 600, 'F'), ('Alex', 500, 'M'), ('Raj', 225, 'M'), ('Penny', 920, 'F'), ('Ben', 300, 'M')]\n",
        "\n",
        "def find_female_with_most_hours(work_hours):\n",
        "    max_hours = 0\n",
        "    female_with_most_hours = None\n",
        "\n",
        "    for name, hours, gender in work_hours:\n",
        "        if gender == 'F' and hours > max_hours:\n",
        "            max_hours = hours\n",
        "            female_with_most_hours = name\n",
        "\n",
        "    return female_with_most_hours, max_hours\n",
        "\n",
        "# Call the function to find the female worker with the most hours\n",
        "female_worker, max_hours = find_female_with_most_hours(work_hours)\n",
        "\n",
        "# Calculate her payment (assuming $20 per hour)\n",
        "payment = max_hours * 20\n",
        "\n",
        "print(f\"The female worker that worked the most hours is {female_worker} and she should be paid ${payment}\")\n"
      ],
      "metadata": {
        "colab": {
          "base_uri": "https://localhost:8080/"
        },
        "id": "80ajkja3lfvk",
        "outputId": "910a446c-1e02-48d7-b4c1-33dccfb98c08"
      },
      "execution_count": 8,
      "outputs": [
        {
          "output_type": "stream",
          "name": "stdout",
          "text": [
            "The female worker that worked the most hours is Penny and she should be paid $18400\n"
          ]
        }
      ]
    },
    {
      "cell_type": "code",
      "source": [
        "import numpy as np\n",
        "pattern = np.array([[1 ,1] , [2 ,2]])\n",
        "matrix =np.vstack([np.hstack([pattern]*2)]*2 + [np.hstack([pattern]*2)])\n",
        "print(matrix)"
      ],
      "metadata": {
        "colab": {
          "base_uri": "https://localhost:8080/"
        },
        "id": "qP9NFyG2lszB",
        "outputId": "7b76ede0-1976-4c4e-f7d5-905396428820"
      },
      "execution_count": 14,
      "outputs": [
        {
          "output_type": "stream",
          "name": "stdout",
          "text": [
            "[[1 1 1 1]\n",
            " [2 2 2 2]\n",
            " [1 1 1 1]\n",
            " [2 2 2 2]\n",
            " [1 1 1 1]\n",
            " [2 2 2 2]]\n"
          ]
        }
      ]
    },
    {
      "cell_type": "code",
      "source": [
        "import numpy as np\n",
        "matrix_5x5 = np.array([[1, 1, 1, 1, 1],\n",
        "                       [2, 2, 2, 2, 2],\n",
        "                       [1, 1, 1, 1, 1],\n",
        "                       [2, 2, 2, 2, 2],\n",
        "                       [1, 1, 1, 1, 1]])\n",
        "matrix_Nx5 = np.array([[1, 2, 3],\n",
        "                       [4, 5, 6],\n",
        "                       [7, 8, 9],\n",
        "                       [10, 11, 12],\n",
        "                       [13, 14, 15]])\n",
        "dot_product = np.dot(matrix_5x5, matrix_Nx5)\n",
        "print(\"Dot Product Matrix:\")\n",
        "print(dot_product)\n",
        "print(\"Shape of Dot Product Matrix:\", dot_product.shape)"
      ],
      "metadata": {
        "colab": {
          "base_uri": "https://localhost:8080/"
        },
        "id": "0UBPSthnsQ0K",
        "outputId": "34f3ff1e-2c6d-4e2c-dec5-9e0ee33f15ef"
      },
      "execution_count": 15,
      "outputs": [
        {
          "output_type": "stream",
          "name": "stdout",
          "text": [
            "Dot Product Matrix:\n",
            "[[35 40 45]\n",
            " [70 80 90]\n",
            " [35 40 45]\n",
            " [70 80 90]\n",
            " [35 40 45]]\n",
            "Shape of Dot Product Matrix: (5, 3)\n"
          ]
        }
      ]
    }
  ]
}